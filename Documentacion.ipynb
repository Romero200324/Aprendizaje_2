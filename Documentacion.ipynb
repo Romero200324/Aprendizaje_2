{
 "cells": [
  {
   "cell_type": "markdown",
   "metadata": {},
   "source": [
    "# Creacion de Cuaderno de Jupyter \n",
    "\n",
    "# Analisis de Sentimientos en Español\n",
    "\n",
    "## Utilizando un modelo previamente entrenado con Naive Bayes\n",
    "\n",
    "Ejecucion de caso practico para el un analisis de sentimientos en python\n",
    "\n",
    "Naive Bayes\n",
    "from classifier import SentimentClassifier\n"
   ]
  },
  {
   "cell_type": "code",
   "execution_count": null,
   "metadata": {},
   "outputs": [
    {
     "ename": "",
     "evalue": "",
     "output_type": "error",
     "traceback": [
      "\u001b[1;31mFailed to start the Kernel. \n",
      "\u001b[1;31mUnable to start Kernel 'Python 3.11.5' due to a timeout waiting for the ports to get used. \n",
      "\u001b[1;31mView Jupyter <a href='command:jupyter.viewOutput'>log</a> for further details."
     ]
    }
   ],
   "source": [
    "# Creacion de Analisis dew sentimeintos..\n",
    "\n",
    "import numpy as np \n",
    "import keras as kt\n",
    "\n"
   ]
  },
  {
   "cell_type": "markdown",
   "metadata": {},
   "source": []
  },
  {
   "cell_type": "markdown",
   "metadata": {},
   "source": [
    "# Ques git\n",
    "## Conjunto de creacion de \n",
    "- Control de versiones \n",
    "- Colaboracion\n",
    "- Sistem centralizacion\n",
    "\n",
    "# Creacion de un nuevo repositorio \n",
    "\n",
    "ESTADATOS DE LOS FICHEROS\n",
    "\n"
   ]
  },
  {
   "cell_type": "code",
   "execution_count": null,
   "metadata": {},
   "outputs": [],
   "source": [
    "# Creacion de un uevo repositorio\n",
    "git init # Creacion de un nuevo      \n",
    "\n",
    "# Comando basicos \n",
    "\n",
    "git status # En donde nos da la docuemntacion del proyecto\n",
    "\n",
    "git add (nombre del archivo ) # Para mantener un la verision del archivo...\n",
    "\n",
    "git commit -m # Explicacion del mesaje para hcer un cambio al documento \n",
    "\n",
    "git log # Imprime el historial del recepocitorio \n",
    "\n",
    "\n",
    "\n",
    "# Comando la despues subi\n",
    "\n",
    "git remote # Para subir el docuemto de manera remota para subir el proyecto\n",
    "\n",
    "git remote add (nombre (Link que te proporciona el comando de otras ))\n",
    "\n",
    "\n",
    "git push (nombre del archiov ) # Para subir el documento para subir a la nuve ...\n",
    "\n"
   ]
  }
 ],
 "metadata": {
  "kernelspec": {
   "display_name": "Python 3",
   "language": "python",
   "name": "python3"
  },
  "language_info": {
   "name": "python",
   "version": "3.11.5"
  }
 },
 "nbformat": 4,
 "nbformat_minor": 2
}
