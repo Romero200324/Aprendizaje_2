{
  "nbformat": 4,
  "nbformat_minor": 0,
  "metadata": {
    "colab": {
      "provenance": [],
      "authorship_tag": "ABX9TyMhbRzK7fmV9NEaSY2XsljU",
      "include_colab_link": true
    },
    "kernelspec": {
      "name": "python3",
      "display_name": "Python 3"
    },
    "language_info": {
      "name": "python"
    }
  },
  "cells": [
    {
      "cell_type": "markdown",
      "metadata": {
        "id": "view-in-github",
        "colab_type": "text"
      },
      "source": [
        "<a href=\"https://colab.research.google.com/github/Romero200324/Aprendizaje_2/blob/main/Ciencia_de_datos.ipynb\" target=\"_parent\"><img src=\"https://colab.research.google.com/assets/colab-badge.svg\" alt=\"Open In Colab\"/></a>"
      ]
    },
    {
      "cell_type": "markdown",
      "source": [
        "# Sección nueva"
      ],
      "metadata": {
        "id": "Z--HBnw5Sp5i"
      }
    },
    {
      "cell_type": "markdown",
      "source": [
        "# Implementacion de datos de python en con la libreria de pandas.\n",
        "\n",
        "\n",
        "### \"Una de las implementaciones de datos para realizar el codigo de manera adecuada...\"\n",
        "\n",
        "![Implementacion de datos](https://aprendeconalf.es/docencia/python/manual/img/pandas-logo.png)\n",
        "\n"
      ],
      "metadata": {
        "id": "ZIB3ouoKSrOT"
      }
    },
    {
      "cell_type": "code",
      "execution_count": 3,
      "metadata": {
        "colab": {
          "base_uri": "https://localhost:8080/"
        },
        "id": "U8_5f9yqcrt0",
        "outputId": "f1fa4284-8a34-43e0-c82c-c11f09a6b4aa"
      },
      "outputs": [
        {
          "output_type": "stream",
          "name": "stdout",
          "text": [
            "Muestra del codigo en cuestion de datos             Handle            Title  Body (HTML) Vendor  \\\n",
            "0  example-t-shirt  Example T-Shirt          NaN   Acme   \n",
            "1  example-t-shirt              NaN          NaN    NaN   \n",
            "2  example-t-shirt              NaN          NaN    NaN   \n",
            "3    example-pants    Example Pants          NaN   Acme   \n",
            "4      example-hat      Example Hat          NaN   Acme   \n",
            "\n",
            "                   Product Category    Type                  Tags Published  \\\n",
            "0  Apparel & Accessories > Clothing  Shirts  mens t-shirt example      True   \n",
            "1                               NaN     NaN                   NaN       NaN   \n",
            "2                               NaN     NaN                   NaN       NaN   \n",
            "3  Apparel & Accessories > Clothing   Pants    mens pants example     False   \n",
            "4  Apparel & Accessories > Clothing     Hat      mens hat example     False   \n",
            "\n",
            "  Option1 Name                         Option1 Value  ...  \\\n",
            "0        Title  Lithograph - Height: 9\" x Width: 12\"  ...   \n",
            "1          NaN                                 Small  ...   \n",
            "2          NaN                                Medium  ...   \n",
            "3        Title                         Jeans, W32H34  ...   \n",
            "4        Title                                  Grey  ...   \n",
            "\n",
            "   Google Shopping / Custom Label 2  Google Shopping / Custom Label 3  \\\n",
            "0                               NaN                               NaN   \n",
            "1                               NaN                               NaN   \n",
            "2                               NaN                               NaN   \n",
            "3                               NaN                               NaN   \n",
            "4                               NaN                               NaN   \n",
            "\n",
            "   Google Shopping / Custom Label 4  Variant Image Variant Weight Unit  \\\n",
            "0                               NaN            NaN                   g   \n",
            "1                               NaN            NaN                   g   \n",
            "2                               NaN            NaN                   g   \n",
            "3                               NaN            NaN                   g   \n",
            "4                               NaN            NaN                   g   \n",
            "\n",
            "   Variant Tax Code Cost per item  Price / International  \\\n",
            "0               NaN           NaN                    NaN   \n",
            "1               NaN           NaN                    NaN   \n",
            "2               NaN           NaN                    NaN   \n",
            "3               NaN           NaN                    NaN   \n",
            "4               NaN           NaN                    NaN   \n",
            "\n",
            "  Compare At Price / International    Status  \n",
            "0                              NaN    active  \n",
            "1                              NaN       NaN  \n",
            "2                              NaN       NaN  \n",
            "3                              NaN     draft  \n",
            "4                              NaN  archived  \n",
            "\n",
            "[5 rows x 51 columns]\n"
          ]
        }
      ],
      "source": [
        "import pandas as pd\n",
        "\n",
        "# Leer y modificar archivos\n",
        "df = pd.read_csv('product_template.csv')\n",
        "\n",
        "# Imprecion de archivos\n",
        "print(f\"Muestra del codigo en cuestion de datos {df}\")\n"
      ]
    },
    {
      "cell_type": "markdown",
      "source": [
        "#Creacion de gradica de barras\n",
        "\n",
        "![Grafica de barras](https://encrypted-tbn0.gstatic.com/images?q=tbn:ANd9GcRzz4Ig7GfhwuAti_7WIpowz9MQ5WZgm7pF3wNE1D4dAQ&s)\n",
        "\n",
        "## Es mas utilizado es para la medida de magnitudes..\n",
        "\n",
        "### Teniendo solo dos valores de simplitud del archivo..\n",
        "\n",
        "## En casos que no deberian de ser utilizadas\n",
        "\n",
        "\n",
        "- Cuando los datos son concreto o solo cai en en dos categorias.\n",
        "\n",
        "- O solo cuado solo ahi un solo valor..\n"
      ],
      "metadata": {
        "id": "yDbWlEVO8ZfC"
      }
    },
    {
      "cell_type": "code",
      "source": [
        "# Creacion de \"CODIGO DE BARRAS\"\n",
        "\n",
        "import pandas as pd\n",
        "\n",
        "pd.read_csv(\"\")"
      ],
      "metadata": {
        "id": "WSuNNIVQ8ZO1"
      },
      "execution_count": null,
      "outputs": []
    }
  ]
}